{
 "cells": [
  {
   "cell_type": "markdown",
   "metadata": {},
   "source": [
    "## Pre-requisites\n",
    "\n",
    "This Notebook requires the following to be installed on one's machine:\n",
    "\n",
    "* **openmc**\n",
    "* **beavrs**\n",
    "\n",
    "**NOTE**: You can install the `beavrs` Python module by running the following in the terminal:\n",
    "\n",
    "```\n",
    "$ python setup.py install --user\n",
    "```"
   ]
  },
  {
   "cell_type": "code",
   "execution_count": 1,
   "metadata": {},
   "outputs": [],
   "source": [
    "import openmc\n",
    "import beavrs.builder\n",
    "import beavrs.constants as c\n",
    "from IPython.display import Image"
   ]
  },
  {
   "cell_type": "markdown",
   "metadata": {},
   "source": [
    "## Create BEAVRS Model"
   ]
  },
  {
   "cell_type": "code",
   "execution_count": 2,
   "metadata": {},
   "outputs": [],
   "source": [
    "# Instantiate a BEAVRS object from the mit-crpg/PWR_benchmarks repository\n",
    "b = beavrs.builder.BEAVRS()"
   ]
  },
  {
   "cell_type": "markdown",
   "metadata": {},
   "source": [
    "The BEAVRS model represented by variable `b` encapsulates the fully-detailed 3D BEAVRS core geometry and materials built using the OpenMC Python API."
   ]
  },
  {
   "cell_type": "markdown",
   "metadata": {},
   "source": [
    "## Create \"geometry.xml\""
   ]
  },
  {
   "cell_type": "markdown",
   "metadata": {},
   "source": [
    "We wish to extract a fuel pin from the BEAVRS `Geometry` object for our simulation."
   ]
  },
  {
   "cell_type": "code",
   "execution_count": 3,
   "metadata": {
    "collapsed": true
   },
   "outputs": [],
   "source": [
    "# User-specified enrichment of 1.6, 2.4 or 3.1 percent\n",
    "enrichment = 1.6"
   ]
  },
  {
   "cell_type": "code",
   "execution_count": 4,
   "metadata": {
    "collapsed": true
   },
   "outputs": [],
   "source": [
    "# Extract fuel pin of interest from BEAVRS model\n",
    "pin_name = 'Fuel rod active region - {}% enr'.format(enrichment)\n",
    "pin = b.openmc_geometry.get_universes_by_name(pin_name)[0]"
   ]
  },
  {
   "cell_type": "markdown",
   "metadata": {},
   "source": [
    "We can inspect our chosen fuel pin using OpenMC's built-in string representation for the object:"
   ]
  },
  {
   "cell_type": "code",
   "execution_count": 5,
   "metadata": {},
   "outputs": [
    {
     "data": {
      "text/plain": [
       "Universe\n",
       "\tID             =\t8\n",
       "\tName           =\tFuel rod active region - 1.6% enr\n",
       "\tCells          =\t[52, 53, 54]"
      ]
     },
     "execution_count": 5,
     "metadata": {},
     "output_type": "execute_result"
    }
   ],
   "source": [
    "pin"
   ]
  },
  {
   "cell_type": "code",
   "execution_count": 6,
   "metadata": {},
   "outputs": [
    {
     "name": "stdout",
     "output_type": "stream",
     "text": [
      "OrderedDict([(52, Cell\n",
      "\tID             =\t52\n",
      "\tName           =\tFuel rod active region - 1.6% enr radial 0: Fuel 1.6%\n",
      "\tFill           =\tMaterial 9\n",
      "\tRegion         =\t-35\n",
      "\tRotation       =\tNone\n",
      "\tTemperature    =\tNone\n",
      "\tTranslation    =\tNone\n",
      "), (53, Cell\n",
      "\tID             =\t53\n",
      "\tName           =\tFuel rod active region - 1.6% enr radial 1: Helium\n",
      "\tFill           =\tMaterial 5\n",
      "\tRegion         =\t(35 -36)\n",
      "\tRotation       =\tNone\n",
      "\tTemperature    =\tNone\n",
      "\tTranslation    =\tNone\n",
      "), (54, Cell\n",
      "\tID             =\t54\n",
      "\tName           =\tFuel rod active region - 1.6% enr radial outer: Zircaloy 4\n",
      "\tFill           =\tMaterial 7\n",
      "\tRegion         =\t36\n",
      "\tRotation       =\tNone\n",
      "\tTemperature    =\tNone\n",
      "\tTranslation    =\tNone\n",
      ")])\n"
     ]
    }
   ],
   "source": [
    "print(pin.cells)"
   ]
  },
  {
   "cell_type": "markdown",
   "metadata": {},
   "source": [
    "We need to wrap the fuel region with water to make a complete fuel pin:"
   ]
  },
  {
   "cell_type": "code",
   "execution_count": 7,
   "metadata": {},
   "outputs": [],
   "source": [
    "# Create surface as the boundary of clad and cell pitches\n",
    "fuel_clad_OR = openmc.ZCylinder(name='Fuel clad OR', r=c.cladOR)\n",
    "pin_sides = openmc.model.get_rectangular_prism(c.pinPitch, c.pinPitch,\n",
    "                                               boundary_type='reflective')\n",
    "# Create a cell filled by the fuel pin\n",
    "fuel_cell = openmc.Cell(name='Fuel cell',\n",
    "                        fill=pin,\n",
    "                        region=-fuel_clad_OR\n",
    "                       )\n",
    "water_cell = openmc.Cell(name='Water',\n",
    "                        fill=b.mats['Borated Water'],\n",
    "                        region=+fuel_clad_OR & pin_sides\n",
    "                       )"
   ]
  },
  {
   "cell_type": "markdown",
   "metadata": {},
   "source": [
    "Then we construct a sub-geometry encapsulating only this fuel pin. We will do this by first creating a \"root\" universe and add our cells to it:"
   ]
  },
  {
   "cell_type": "code",
   "execution_count": 8,
   "metadata": {
    "collapsed": true
   },
   "outputs": [],
   "source": [
    "# Create a \"root\" universe with ID=0 and add the \"root\" cell to it\n",
    "root_univ = openmc.Universe(name='root universe', cells=[fuel_cell, water_cell])"
   ]
  },
  {
   "cell_type": "markdown",
   "metadata": {},
   "source": [
    "Lastly, the \"root\" universe must be attached to a new OpenMC `Geometry` object representing this new sub-geometry:"
   ]
  },
  {
   "cell_type": "code",
   "execution_count": 9,
   "metadata": {
    "collapsed": true
   },
   "outputs": [],
   "source": [
    "# Create an OpenMC Geometry around root Universe\n",
    "sub_geometry = openmc.Geometry(root_univ)"
   ]
  },
  {
   "cell_type": "markdown",
   "metadata": {},
   "source": [
    "Finally, we are ready to create a \"geometry.xml\" input file for OpenMC! We simply export it to XML as follows:"
   ]
  },
  {
   "cell_type": "code",
   "execution_count": 10,
   "metadata": {
    "collapsed": true
   },
   "outputs": [],
   "source": [
    "# Export the OpenMC Geometry to a \"geometry.xml\" file\n",
    "sub_geometry.export_to_xml()"
   ]
  },
  {
   "cell_type": "markdown",
   "metadata": {},
   "source": [
    "## Create \"materials.xml\""
   ]
  },
  {
   "cell_type": "markdown",
   "metadata": {},
   "source": [
    "Now we need to create materials for our geometry. This is very easy to do with the `b.write_openmc_materials()` routine. The one disadvantage of this is that it will write *all* materials for the entire BEAVRS geometry to a \"materials.xml\" file, most of which are not used in our sub-geometry for a single fuel pin. Instead, we can write out only those materials that are in our geometry as follows:"
   ]
  },
  {
   "cell_type": "code",
   "execution_count": 11,
   "metadata": {
    "collapsed": true
   },
   "outputs": [],
   "source": [
    "# Get a list of all OpenMC Materials\n",
    "all_materials = sub_geometry.get_all_materials()\n",
    "\n",
    "# Create a MaterialsFile object\n",
    "materials = openmc.Materials(all_materials.values())\n",
    "\n",
    "# Export the OpenMC Materials to a \"materials.xml\" file\n",
    "materials.export_to_xml()"
   ]
  },
  {
   "cell_type": "markdown",
   "metadata": {},
   "source": [
    "## Create \"settings.xml\" "
   ]
  },
  {
   "cell_type": "markdown",
   "metadata": {},
   "source": [
    "Now for the easy part :-) Let's create a \"settings.xml\" file:"
   ]
  },
  {
   "cell_type": "code",
   "execution_count": 12,
   "metadata": {
    "collapsed": true
   },
   "outputs": [],
   "source": [
    "# Create a MaterialsFile object\n",
    "settings = openmc.Settings()\n",
    "\n",
    "# Set any settings of interest\n",
    "settings.batches = 150\n",
    "settings.inactive = 10\n",
    "settings.particles = 1000\n",
    "\n",
    "# Use a bounding box to define the starting source distribution\n",
    "lower_left = [c.pinPitch/2, c.pinPitch/2, c.fuel_ActiveFuel_bot]\n",
    "upper_right = [c.pinPitch/2, c.pinPitch/2, c.fuel_ActiveFuel_top]\n",
    "settings.source = openmc.source.Source(space=openmc.stats.Point((0, 0, 0)))\n",
    "\n",
    "# Export the settings to a \"settings.xml\" file\n",
    "settings.export_to_xml()"
   ]
  },
  {
   "cell_type": "markdown",
   "metadata": {},
   "source": [
    "## Create \"plots.xml\""
   ]
  },
  {
   "cell_type": "code",
   "execution_count": 13,
   "metadata": {
    "collapsed": true
   },
   "outputs": [],
   "source": [
    "# Create a single plot using default paramters (basis='xy', origin=(0,0,0))\n",
    "plot = openmc.Plot(plot_id=1)\n",
    "plot.width = [c.pinPitch, c.pinPitch]\n",
    "\n",
    "# Create a PlotsFile object and add our plot to it\n",
    "plot_file = openmc.Plots([plot])\n",
    "\n",
    "# Export the plots to a \"plots.xml\" file\n",
    "plot_file.export_to_xml()"
   ]
  },
  {
   "cell_type": "markdown",
   "metadata": {},
   "source": [
    "With the \"plots.xml\" file, we can now generate and view the plot. We must first instantiate an `openmc.Executor` object and then ask it to plot the geometry(equivalent to running `openmc -p` from within the terminal)."
   ]
  },
  {
   "cell_type": "code",
   "execution_count": 14,
   "metadata": {
    "collapsed": true
   },
   "outputs": [],
   "source": [
    "# Run openmc in plotting mode\n",
    "openmc.plot_geometry(output=False)"
   ]
  },
  {
   "cell_type": "markdown",
   "metadata": {},
   "source": [
    "OpenMC outputs plots in .ppm format, which can be converted into a compressed format like .png with the convert utility. We can view the .png image inline using the `IPython.display.Image` class as follows:"
   ]
  },
  {
   "cell_type": "code",
   "execution_count": 15,
   "metadata": {},
   "outputs": [
    {
     "data": {
      "image/png": "[encoded data removed]",
      "text/plain": [
       "<IPython.core.display.Image object>"
      ]
     },
     "execution_count": 15,
     "metadata": {
      "image/png": {
       "height": 250,
       "width": 250
      }
     },
     "output_type": "execute_result"
    }
   ],
   "source": [
    "# Convert OpenMC's funky ppm to png\n",
    "!convert plot_1.ppm plot.png\n",
    "\n",
    "# Display the plot inline\n",
    "Image(filename='plot.png', width=250, height=250)"
   ]
  },
  {
   "cell_type": "markdown",
   "metadata": {},
   "source": [
    "## Create \"tallies.xml\""
   ]
  },
  {
   "cell_type": "markdown",
   "metadata": {},
   "source": [
    "Perhaps you'd like a tally in one of the cells. First, we need to extract the cell(s) of interest:"
   ]
  },
  {
   "cell_type": "code",
   "execution_count": 16,
   "metadata": {},
   "outputs": [],
   "source": [
    "all_material_cells = sub_geometry.get_all_material_cells()\n",
    "\n",
    "cell_name = 'Fuel rod active region - 1.6% enr radial 0: Fuel 1.6%'\n",
    "for id, cell in all_material_cells.items():\n",
    "    if cell.name == cell_name:\n",
    "        my_cell = cell"
   ]
  },
  {
   "cell_type": "markdown",
   "metadata": {},
   "source": [
    "Let's tally the fast/thermal scatter and absorption rates for all nuclides in our cell. We create a `Tally` to do so as follows:"
   ]
  },
  {
   "cell_type": "code",
   "execution_count": 17,
   "metadata": {},
   "outputs": [],
   "source": [
    "# Instantiate a really cool tally\n",
    "tally = openmc.Tally(name='a really cool tally')\n",
    "\n",
    "# Instantiate a cell filter\n",
    "cell_filter = openmc.CellFilter(bins=[my_cell.id])\n",
    "\n",
    "# Instantiate energy filter\n",
    "energy_filter = openmc.EnergyFilter([0., 0.625e-6, 20.])\n",
    "\n",
    "tally.filters = [cell_filter, energy_filter]\n",
    "\n",
    "# Add the scores of interest to the tally\n",
    "tally.scores = ['scatter', 'absorption']\n",
    "\n",
    "# Add all nuclides to the tally for kicks\n",
    "tally.nuclides = my_cell.fill.get_nuclides()"
   ]
  },
  {
   "cell_type": "markdown",
   "metadata": {},
   "source": [
    "Next, we simply need to add our `Tally` object(s) to a `TalliesFile` object and export them to a \"tallies.xml\" file:"
   ]
  },
  {
   "cell_type": "code",
   "execution_count": 18,
   "metadata": {
    "collapsed": true
   },
   "outputs": [],
   "source": [
    "# Instantiate an empty TalliesFile\n",
    "tallies_file = openmc.Tallies()\n",
    "\n",
    "# Add our tally(ies) to the file\n",
    "tallies_file.append(tally)\n",
    "\n",
    "# Export the tallies to a \"tallies.xml\" file\n",
    "tallies_file.export_to_xml()"
   ]
  },
  {
   "cell_type": "markdown",
   "metadata": {},
   "source": [
    "## Run OpenMC!"
   ]
  },
  {
   "cell_type": "markdown",
   "metadata": {},
   "source": [
    "We can run OpenMC from within the notebook if we wish. Wow, isn't this so much more powerful than ASCII!"
   ]
  },
  {
   "cell_type": "code",
   "execution_count": 19,
   "metadata": {},
   "outputs": [
    {
     "name": "stdout",
     "output_type": "stream",
     "text": [
      "\n",
      "                               %%%%%%%%%%%%%%%\n",
      "                          %%%%%%%%%%%%%%%%%%%%%%%%\n",
      "                       %%%%%%%%%%%%%%%%%%%%%%%%%%%%%%\n",
      "                     %%%%%%%%%%%%%%%%%%%%%%%%%%%%%%%%%%\n",
      "                   %%%%%%%%%%%%%%%%%%%%%%%%%%%%%%%%%%%%%%\n",
      "                  %%%%%%%%%%%%%%%%%%%%%%%%%%%%%%%%%%%%%%%%\n",
      "                                   %%%%%%%%%%%%%%%%%%%%%%%%\n",
      "                                    %%%%%%%%%%%%%%%%%%%%%%%%\n",
      "                ###############      %%%%%%%%%%%%%%%%%%%%%%%%\n",
      "               ##################     %%%%%%%%%%%%%%%%%%%%%%%\n",
      "               ###################     %%%%%%%%%%%%%%%%%%%%%%%\n",
      "               ####################     %%%%%%%%%%%%%%%%%%%%%%\n",
      "               #####################     %%%%%%%%%%%%%%%%%%%%%\n",
      "               ######################     %%%%%%%%%%%%%%%%%%%%\n",
      "               #######################     %%%%%%%%%%%%%%%%%%\n",
      "                #######################     %%%%%%%%%%%%%%%%%\n",
      "                ######################     %%%%%%%%%%%%%%%%%\n",
      "                 ####################     %%%%%%%%%%%%%%%%%\n",
      "                   #################     %%%%%%%%%%%%%%%%%\n",
      "                    ###############     %%%%%%%%%%%%%%%%\n",
      "                      ############     %%%%%%%%%%%%%%%\n",
      "                         ########     %%%%%%%%%%%%%%\n",
      "                                     %%%%%%%%%%%\n",
      "\n",
      "                   | The OpenMC Monte Carlo Code\n",
      "         Copyright | 2011-2018 MIT and OpenMC contributors\n",
      "           License | http://openmc.readthedocs.io/en/latest/license.html\n",
      "           Version | 0.10.0\n",
      "          Git SHA1 | 0cf903cc67af4267a8216535fc2fa6a61f4341a1\n",
      "         Date/Time | 2018-08-28 17:13:11\n",
      "     MPI Processes | 2\n",
      "    OpenMP Threads | 2\n",
      "\n",
      " Reading settings XML file...\n",
      " Reading cross sections XML file...\n",
      " Reading materials XML file...\n",
      " Reading geometry XML file...\n",
      " Building neighboring cells lists for each surface...\n",
      " Reading He3 from /home/liangjg/nucdata/nndc_hdf5/He3.h5\n",
      " Reading He4 from /home/liangjg/nucdata/nndc_hdf5/He4.h5\n",
      " Reading O16 from /home/liangjg/nucdata/nndc_hdf5/O16.h5\n",
      " Reading O17 from /home/liangjg/nucdata/nndc_hdf5/O17.h5\n",
      " Reading Cr50 from /home/liangjg/nucdata/nndc_hdf5/Cr50.h5\n",
      " Reading Cr52 from /home/liangjg/nucdata/nndc_hdf5/Cr52.h5\n",
      " Reading Cr53 from /home/liangjg/nucdata/nndc_hdf5/Cr53.h5\n",
      " Reading Cr54 from /home/liangjg/nucdata/nndc_hdf5/Cr54.h5\n",
      " Reading Fe54 from /home/liangjg/nucdata/nndc_hdf5/Fe54.h5\n",
      " Reading Fe56 from /home/liangjg/nucdata/nndc_hdf5/Fe56.h5\n",
      " Reading Fe57 from /home/liangjg/nucdata/nndc_hdf5/Fe57.h5\n",
      " Reading Fe58 from /home/liangjg/nucdata/nndc_hdf5/Fe58.h5\n",
      " Reading Zr90 from /home/liangjg/nucdata/nndc_hdf5/Zr90.h5\n",
      " Reading Zr91 from /home/liangjg/nucdata/nndc_hdf5/Zr91.h5\n",
      " Reading Zr92 from /home/liangjg/nucdata/nndc_hdf5/Zr92.h5\n",
      " Reading Zr94 from /home/liangjg/nucdata/nndc_hdf5/Zr94.h5\n",
      " Reading Zr96 from /home/liangjg/nucdata/nndc_hdf5/Zr96.h5\n",
      " Reading Sn112 from /home/liangjg/nucdata/nndc_hdf5/Sn112.h5\n",
      " Reading Sn114 from /home/liangjg/nucdata/nndc_hdf5/Sn114.h5\n",
      " Reading Sn115 from /home/liangjg/nucdata/nndc_hdf5/Sn115.h5\n",
      " Reading Sn116 from /home/liangjg/nucdata/nndc_hdf5/Sn116.h5\n",
      " Reading Sn117 from /home/liangjg/nucdata/nndc_hdf5/Sn117.h5\n",
      " Reading Sn118 from /home/liangjg/nucdata/nndc_hdf5/Sn118.h5\n",
      " Reading Sn119 from /home/liangjg/nucdata/nndc_hdf5/Sn119.h5\n",
      " Reading Sn120 from /home/liangjg/nucdata/nndc_hdf5/Sn120.h5\n",
      " Reading Sn122 from /home/liangjg/nucdata/nndc_hdf5/Sn122.h5\n",
      " Reading Sn124 from /home/liangjg/nucdata/nndc_hdf5/Sn124.h5\n",
      " Reading U234 from /home/liangjg/nucdata/nndc_hdf5/U234.h5\n",
      " Reading U235 from /home/liangjg/nucdata/nndc_hdf5/U235.h5\n",
      " Reading U238 from /home/liangjg/nucdata/nndc_hdf5/U238.h5\n",
      " Reading U236 from /home/liangjg/nucdata/nndc_hdf5/U236.h5\n",
      " Reading B10 from /home/liangjg/nucdata/nndc_hdf5/B10.h5\n",
      " Reading B11 from /home/liangjg/nucdata/nndc_hdf5/B11.h5\n",
      " Reading H1 from /home/liangjg/nucdata/nndc_hdf5/H1.h5\n",
      " Reading H2 from /home/liangjg/nucdata/nndc_hdf5/H2.h5\n",
      " Reading c_H_in_H2O from /home/liangjg/nucdata/nndc_hdf5/c_H_in_H2O.h5\n",
      " Maximum neutron transport energy: 2.00000E+07 eV for He3\n",
      " Reading tallies XML file...\n",
      " Writing summary.h5 file...\n",
      " Initializing source particles...\n",
      "\n",
      " ====================>     K EIGENVALUE SIMULATION     <====================\n",
      "\n",
      "  Bat./Gen.      k            Average k         \n",
      "  =========   ========   ====================   \n",
      "        1/1    0.97511                       \n",
      "        2/1    1.04000                       \n",
      "        3/1    0.94442                       \n",
      "        4/1    1.02773                       \n",
      "        5/1    1.04344                       \n",
      "        6/1    1.01869                       \n",
      "        7/1    1.00825                       \n",
      "        8/1    1.03051                       \n",
      "        9/1    1.00392                       \n",
      "       10/1    1.02401                       \n",
      "       11/1    0.98418                       \n",
      "       12/1    1.04523    1.01470 +/- 0.03053\n",
      "       13/1    1.05826    1.02922 +/- 0.02283\n",
      "       14/1    1.07555    1.04080 +/- 0.01987\n",
      "       15/1    1.11134    1.05491 +/- 0.02088\n",
      "       16/1    1.01344    1.04800 +/- 0.01840\n",
      "       17/1    1.04992    1.04827 +/- 0.01555\n",
      "       18/1    1.02696    1.04561 +/- 0.01373\n",
      "       19/1    1.06505    1.04777 +/- 0.01230\n",
      "       20/1    1.04642    1.04763 +/- 0.01100\n",
      "       21/1    0.93051    1.03699 +/- 0.01457\n",
      "       22/1    0.99599    1.03357 +/- 0.01374\n",
      "       23/1    0.98503    1.02984 +/- 0.01317\n",
      "       24/1    1.00745    1.02824 +/- 0.01230\n",
      "       25/1    1.04422    1.02930 +/- 0.01150\n",
      "       26/1    1.01579    1.02846 +/- 0.01079\n",
      "       27/1    0.99016    1.02621 +/- 0.01038\n",
      "       28/1    1.00865    1.02523 +/- 0.00984\n",
      "       29/1    0.97084    1.02237 +/- 0.00974\n",
      "       30/1    0.99065    1.02078 +/- 0.00937\n",
      "       31/1    1.05078    1.02221 +/- 0.00903\n",
      "       32/1    1.01389    1.02183 +/- 0.00862\n",
      "       33/1    0.98003    1.02001 +/- 0.00843\n",
      "       34/1    0.96472    1.01771 +/- 0.00840\n",
      "       35/1    1.04002    1.01860 +/- 0.00810\n",
      "       36/1    1.09623    1.02159 +/- 0.00834\n",
      "       37/1    1.01305    1.02127 +/- 0.00803\n",
      "       38/1    1.01213    1.02095 +/- 0.00774\n",
      "       39/1    1.04104    1.02164 +/- 0.00750\n",
      "       40/1    0.98833    1.02053 +/- 0.00733\n",
      "       41/1    1.01505    1.02035 +/- 0.00710\n",
      "       42/1    1.03518    1.02081 +/- 0.00689\n",
      "       43/1    0.99342    1.01998 +/- 0.00673\n",
      "       44/1    1.05292    1.02095 +/- 0.00660\n",
      "       45/1    1.02786    1.02115 +/- 0.00641\n",
      "       46/1    1.01292    1.02092 +/- 0.00623\n",
      "       47/1    1.04893    1.02168 +/- 0.00611\n",
      "       48/1    1.02091    1.02166 +/- 0.00594\n",
      "       49/1    1.02538    1.02175 +/- 0.00579\n",
      "       50/1    1.06304    1.02279 +/- 0.00574\n",
      "       51/1    0.95241    1.02107 +/- 0.00585\n",
      "       52/1    1.01082    1.02083 +/- 0.00572\n",
      "       53/1    0.96167    1.01945 +/- 0.00575\n",
      "       54/1    1.08665    1.02098 +/- 0.00582\n",
      "       55/1    1.13206    1.02345 +/- 0.00620\n",
      "       56/1    1.00262    1.02299 +/- 0.00608\n",
      "       57/1    1.02246    1.02298 +/- 0.00595\n",
      "       58/1    0.99593    1.02242 +/- 0.00586\n",
      "       59/1    0.98706    1.02170 +/- 0.00578\n",
      "       60/1    1.00663    1.02140 +/- 0.00567\n",
      "       61/1    0.96775    1.02034 +/- 0.00566\n",
      "       62/1    1.09874    1.02185 +/- 0.00575\n",
      "       63/1    1.01515    1.02172 +/- 0.00564\n",
      "       64/1    1.10039    1.02318 +/- 0.00572\n",
      "       65/1    0.99549    1.02268 +/- 0.00564\n",
      "       66/1    1.06013    1.02335 +/- 0.00558\n",
      "       67/1    0.96516    1.02233 +/- 0.00558\n",
      "       68/1    1.02089    1.02230 +/- 0.00548\n",
      "       69/1    0.97340    1.02147 +/- 0.00545\n",
      "       70/1    0.99910    1.02110 +/- 0.00537\n",
      "       71/1    1.01906    1.02107 +/- 0.00528\n",
      "       72/1    0.98343    1.02046 +/- 0.00523\n",
      "       73/1    1.01440    1.02036 +/- 0.00515\n",
      "       74/1    1.06536    1.02107 +/- 0.00511\n",
      "       75/1    1.05840    1.02164 +/- 0.00507\n",
      "       76/1    0.98504    1.02109 +/- 0.00502\n",
      "       77/1    1.01406    1.02098 +/- 0.00495\n",
      "       78/1    1.01447    1.02089 +/- 0.00487\n",
      "       79/1    1.05125    1.02133 +/- 0.00482\n",
      "       80/1    1.09150    1.02233 +/- 0.00486\n",
      "       81/1    1.05132    1.02274 +/- 0.00481\n",
      "       82/1    1.05584    1.02320 +/- 0.00476\n",
      "       83/1    1.00987    1.02301 +/- 0.00470\n",
      "       84/1    1.03973    1.02324 +/- 0.00464\n",
      "       85/1    1.01726    1.02316 +/- 0.00458\n"
     ]
    },
    {
     "name": "stdout",
     "output_type": "stream",
     "text": [
      "       86/1    1.03286    1.02329 +/- 0.00452\n",
      "       87/1    1.01847    1.02322 +/- 0.00446\n",
      "       88/1    1.02685    1.02327 +/- 0.00441\n",
      "       89/1    1.01449    1.02316 +/- 0.00435\n",
      "       90/1    1.03687    1.02333 +/- 0.00430\n",
      "       91/1    0.89874    1.02179 +/- 0.00452\n",
      "       92/1    0.95318    1.02096 +/- 0.00454\n",
      "       93/1    1.05213    1.02133 +/- 0.00450\n",
      "       94/1    1.05203    1.02170 +/- 0.00446\n",
      "       95/1    1.08355    1.02243 +/- 0.00447\n",
      "       96/1    0.98955    1.02204 +/- 0.00443\n",
      "       97/1    1.05351    1.02240 +/- 0.00439\n",
      "       98/1    1.02634    1.02245 +/- 0.00434\n",
      "       99/1    1.05826    1.02285 +/- 0.00431\n",
      "      100/1    0.97338    1.02230 +/- 0.00430\n",
      "      101/1    1.05174    1.02263 +/- 0.00427\n",
      "      102/1    0.93970    1.02172 +/- 0.00431\n",
      "      103/1    1.02140    1.02172 +/- 0.00427\n",
      "      104/1    1.00553    1.02155 +/- 0.00423\n",
      "      105/1    1.01433    1.02147 +/- 0.00418\n",
      "      106/1    1.06629    1.02194 +/- 0.00416\n",
      "      107/1    1.08827    1.02262 +/- 0.00418\n",
      "      108/1    1.04702    1.02287 +/- 0.00414\n",
      "      109/1    1.04904    1.02314 +/- 0.00411\n",
      "      110/1    1.06022    1.02351 +/- 0.00408\n",
      "      111/1    1.03590    1.02363 +/- 0.00405\n",
      "      112/1    1.09293    1.02431 +/- 0.00406\n",
      "      113/1    1.01747    1.02424 +/- 0.00402\n",
      "      114/1    1.03208    1.02432 +/- 0.00399\n",
      "      115/1    0.97457    1.02384 +/- 0.00398\n",
      "      116/1    1.08094    1.02438 +/- 0.00397\n",
      "      117/1    1.01130    1.02426 +/- 0.00394\n",
      "      118/1    0.98196    1.02387 +/- 0.00392\n",
      "      119/1    1.02973    1.02392 +/- 0.00389\n",
      "      120/1    1.11169    1.02472 +/- 0.00393\n",
      "      121/1    0.99131    1.02442 +/- 0.00391\n",
      "      122/1    1.06702    1.02480 +/- 0.00389\n",
      "      123/1    1.06903    1.02519 +/- 0.00388\n",
      "      124/1    1.08791    1.02574 +/- 0.00388\n",
      "      125/1    1.05292    1.02598 +/- 0.00386\n",
      "      126/1    1.03611    1.02607 +/- 0.00382\n",
      "      127/1    1.03452    1.02614 +/- 0.00379\n",
      "      128/1    1.01868    1.02607 +/- 0.00376\n",
      "      129/1    1.03727    1.02617 +/- 0.00373\n",
      "      130/1    1.05476    1.02641 +/- 0.00371\n",
      "      131/1    1.01468    1.02631 +/- 0.00368\n",
      "      132/1    1.03989    1.02642 +/- 0.00365\n",
      "      133/1    1.02123    1.02638 +/- 0.00362\n",
      "      134/1    1.01016    1.02625 +/- 0.00359\n",
      "      135/1    0.96283    1.02574 +/- 0.00360\n",
      "      136/1    1.00178    1.02555 +/- 0.00357\n",
      "      137/1    1.01577    1.02547 +/- 0.00355\n",
      "      138/1    1.03909    1.02558 +/- 0.00352\n",
      "      139/1    0.96980    1.02515 +/- 0.00352\n",
      "      140/1    1.02623    1.02516 +/- 0.00349\n",
      "      141/1    1.04033    1.02527 +/- 0.00347\n",
      "      142/1    1.03450    1.02534 +/- 0.00344\n",
      "      143/1    0.98749    1.02506 +/- 0.00343\n",
      "      144/1    0.95794    1.02456 +/- 0.00344\n",
      "      145/1    1.05974    1.02482 +/- 0.00342\n",
      "      146/1    1.01177    1.02472 +/- 0.00340\n",
      "      147/1    1.02459    1.02472 +/- 0.00338\n",
      "      148/1    1.00250    1.02456 +/- 0.00335\n",
      "      149/1    1.01996    1.02453 +/- 0.00333\n",
      "      150/1    1.01685    1.02447 +/- 0.00331\n",
      " Creating state point statepoint.150.h5...\n",
      "\n",
      " =======================>     TIMING STATISTICS     <=======================\n",
      "\n",
      " Total time for initialization     =  1.9973E+00 seconds\n",
      "   Reading cross sections          =  1.9754E+00 seconds\n",
      " Total time in simulation          =  1.0027E+01 seconds\n",
      "   Time in transport only          =  9.7807E+00 seconds\n",
      "   Time in inactive batches        =  6.3098E-01 seconds\n",
      "   Time in active batches          =  9.3961E+00 seconds\n",
      "   Time synchronizing fission bank =  2.2006E-01 seconds\n",
      "     Sampling source sites         =  3.6878E-03 seconds\n",
      "     SEND/RECV source sites        =  1.5480E-03 seconds\n",
      "   Time accumulating tallies       =  1.7685E-03 seconds\n",
      " Total time for finalization       =  1.8645E-03 seconds\n",
      " Total time elapsed                =  1.2029E+01 seconds\n",
      " Calculation Rate (inactive)       =  15848.4 particles/second\n",
      " Calculation Rate (active)         =  14899.7 particles/second\n",
      "\n",
      " ============================>     RESULTS     <============================\n",
      "\n",
      " k-effective (Collision)     =  1.02352 +/-  0.00283\n",
      " k-effective (Track-length)  =  1.02447 +/-  0.00331\n",
      " k-effective (Absorption)    =  1.02829 +/-  0.00297\n",
      " Combined k-effective        =  1.02584 +/-  0.00234\n",
      " Leakage Fraction            =  0.00000 +/-  0.00000\n",
      "\n"
     ]
    }
   ],
   "source": [
    "# Run OpenMC with 2 MPI processes\n",
    "openmc.run(mpi_args=['mpiexec', '-n', '2'], threads=2)"
   ]
  },
  {
   "cell_type": "markdown",
   "metadata": {},
   "source": [
    "## Analyze Tally Data"
   ]
  },
  {
   "cell_type": "code",
   "execution_count": 20,
   "metadata": {
    "collapsed": true
   },
   "outputs": [],
   "source": [
    "# Instantiate a StatePoint object\n",
    "from openmc.statepoint import StatePoint\n",
    "filename = 'statepoint.{}.h5'.format(settings.batches)\n",
    "sp = StatePoint(filename)"
   ]
  },
  {
   "cell_type": "code",
   "execution_count": 21,
   "metadata": {},
   "outputs": [
    {
     "data": {
      "text/plain": [
       "{1: Tally\n",
       " \tID             =\t1\n",
       " \tName           =\ta really cool tally\n",
       " \tFilters        =\tCellFilter, EnergyFilter\n",
       " \tNuclides       =\tO16 O17 U234 U235 U238 U236 \n",
       " \tScores         =\t['scatter', 'absorption']\n",
       " \tEstimator      =\ttracklength}"
      ]
     },
     "execution_count": 21,
     "metadata": {},
     "output_type": "execute_result"
    }
   ],
   "source": [
    "# Inspect the StatePoint's tallies\n",
    "sp.tallies"
   ]
  },
  {
   "cell_type": "code",
   "execution_count": 22,
   "metadata": {},
   "outputs": [
    {
     "data": {
      "text/html": [
       "<div>\n",
       "<style scoped>\n",
       "    .dataframe tbody tr th:only-of-type {\n",
       "        vertical-align: middle;\n",
       "    }\n",
       "\n",
       "    .dataframe tbody tr th {\n",
       "        vertical-align: top;\n",
       "    }\n",
       "\n",
       "    .dataframe thead th {\n",
       "        text-align: right;\n",
       "    }\n",
       "</style>\n",
       "<table border=\"1\" class=\"dataframe\">\n",
       "  <thead>\n",
       "    <tr style=\"text-align: right;\">\n",
       "      <th></th>\n",
       "      <th>cell</th>\n",
       "      <th>energy low [eV]</th>\n",
       "      <th>energy high [eV]</th>\n",
       "      <th>nuclide</th>\n",
       "      <th>score</th>\n",
       "      <th>mean</th>\n",
       "      <th>std. dev.</th>\n",
       "    </tr>\n",
       "  </thead>\n",
       "  <tbody>\n",
       "    <tr>\n",
       "      <th>0</th>\n",
       "      <td>52</td>\n",
       "      <td>0.000000e+00</td>\n",
       "      <td>6.250000e-07</td>\n",
       "      <td>O16</td>\n",
       "      <td>scatter</td>\n",
       "      <td>0.000000</td>\n",
       "      <td>0.000000e+00</td>\n",
       "    </tr>\n",
       "    <tr>\n",
       "      <th>1</th>\n",
       "      <td>52</td>\n",
       "      <td>0.000000e+00</td>\n",
       "      <td>6.250000e-07</td>\n",
       "      <td>O16</td>\n",
       "      <td>absorption</td>\n",
       "      <td>0.000000</td>\n",
       "      <td>0.000000e+00</td>\n",
       "    </tr>\n",
       "    <tr>\n",
       "      <th>2</th>\n",
       "      <td>52</td>\n",
       "      <td>0.000000e+00</td>\n",
       "      <td>6.250000e-07</td>\n",
       "      <td>O17</td>\n",
       "      <td>scatter</td>\n",
       "      <td>0.000000</td>\n",
       "      <td>0.000000e+00</td>\n",
       "    </tr>\n",
       "    <tr>\n",
       "      <th>3</th>\n",
       "      <td>52</td>\n",
       "      <td>0.000000e+00</td>\n",
       "      <td>6.250000e-07</td>\n",
       "      <td>O17</td>\n",
       "      <td>absorption</td>\n",
       "      <td>0.000000</td>\n",
       "      <td>0.000000e+00</td>\n",
       "    </tr>\n",
       "    <tr>\n",
       "      <th>4</th>\n",
       "      <td>52</td>\n",
       "      <td>0.000000e+00</td>\n",
       "      <td>6.250000e-07</td>\n",
       "      <td>U234</td>\n",
       "      <td>scatter</td>\n",
       "      <td>0.000000</td>\n",
       "      <td>0.000000e+00</td>\n",
       "    </tr>\n",
       "    <tr>\n",
       "      <th>5</th>\n",
       "      <td>52</td>\n",
       "      <td>0.000000e+00</td>\n",
       "      <td>6.250000e-07</td>\n",
       "      <td>U234</td>\n",
       "      <td>absorption</td>\n",
       "      <td>0.000000</td>\n",
       "      <td>0.000000e+00</td>\n",
       "    </tr>\n",
       "    <tr>\n",
       "      <th>6</th>\n",
       "      <td>52</td>\n",
       "      <td>0.000000e+00</td>\n",
       "      <td>6.250000e-07</td>\n",
       "      <td>U235</td>\n",
       "      <td>scatter</td>\n",
       "      <td>0.000000</td>\n",
       "      <td>0.000000e+00</td>\n",
       "    </tr>\n",
       "    <tr>\n",
       "      <th>7</th>\n",
       "      <td>52</td>\n",
       "      <td>0.000000e+00</td>\n",
       "      <td>6.250000e-07</td>\n",
       "      <td>U235</td>\n",
       "      <td>absorption</td>\n",
       "      <td>0.000000</td>\n",
       "      <td>0.000000e+00</td>\n",
       "    </tr>\n",
       "    <tr>\n",
       "      <th>8</th>\n",
       "      <td>52</td>\n",
       "      <td>0.000000e+00</td>\n",
       "      <td>6.250000e-07</td>\n",
       "      <td>U238</td>\n",
       "      <td>scatter</td>\n",
       "      <td>0.000000</td>\n",
       "      <td>0.000000e+00</td>\n",
       "    </tr>\n",
       "    <tr>\n",
       "      <th>9</th>\n",
       "      <td>52</td>\n",
       "      <td>0.000000e+00</td>\n",
       "      <td>6.250000e-07</td>\n",
       "      <td>U238</td>\n",
       "      <td>absorption</td>\n",
       "      <td>0.000000</td>\n",
       "      <td>0.000000e+00</td>\n",
       "    </tr>\n",
       "    <tr>\n",
       "      <th>10</th>\n",
       "      <td>52</td>\n",
       "      <td>0.000000e+00</td>\n",
       "      <td>6.250000e-07</td>\n",
       "      <td>U236</td>\n",
       "      <td>scatter</td>\n",
       "      <td>0.000000</td>\n",
       "      <td>0.000000e+00</td>\n",
       "    </tr>\n",
       "    <tr>\n",
       "      <th>11</th>\n",
       "      <td>52</td>\n",
       "      <td>0.000000e+00</td>\n",
       "      <td>6.250000e-07</td>\n",
       "      <td>U236</td>\n",
       "      <td>absorption</td>\n",
       "      <td>0.000000</td>\n",
       "      <td>0.000000e+00</td>\n",
       "    </tr>\n",
       "    <tr>\n",
       "      <th>12</th>\n",
       "      <td>52</td>\n",
       "      <td>6.250000e-07</td>\n",
       "      <td>2.000000e+01</td>\n",
       "      <td>O16</td>\n",
       "      <td>scatter</td>\n",
       "      <td>0.671157</td>\n",
       "      <td>1.863730e-03</td>\n",
       "    </tr>\n",
       "    <tr>\n",
       "      <th>13</th>\n",
       "      <td>52</td>\n",
       "      <td>6.250000e-07</td>\n",
       "      <td>2.000000e+01</td>\n",
       "      <td>O16</td>\n",
       "      <td>absorption</td>\n",
       "      <td>0.000016</td>\n",
       "      <td>5.622982e-08</td>\n",
       "    </tr>\n",
       "    <tr>\n",
       "      <th>14</th>\n",
       "      <td>52</td>\n",
       "      <td>6.250000e-07</td>\n",
       "      <td>2.000000e+01</td>\n",
       "      <td>O17</td>\n",
       "      <td>scatter</td>\n",
       "      <td>0.000247</td>\n",
       "      <td>6.854928e-07</td>\n",
       "    </tr>\n",
       "    <tr>\n",
       "      <th>15</th>\n",
       "      <td>52</td>\n",
       "      <td>6.250000e-07</td>\n",
       "      <td>2.000000e+01</td>\n",
       "      <td>O17</td>\n",
       "      <td>absorption</td>\n",
       "      <td>0.000007</td>\n",
       "      <td>2.678232e-08</td>\n",
       "    </tr>\n",
       "    <tr>\n",
       "      <th>16</th>\n",
       "      <td>52</td>\n",
       "      <td>6.250000e-07</td>\n",
       "      <td>2.000000e+01</td>\n",
       "      <td>U234</td>\n",
       "      <td>scatter</td>\n",
       "      <td>0.000258</td>\n",
       "      <td>1.973762e-06</td>\n",
       "    </tr>\n",
       "    <tr>\n",
       "      <th>17</th>\n",
       "      <td>52</td>\n",
       "      <td>6.250000e-07</td>\n",
       "      <td>2.000000e+01</td>\n",
       "      <td>U234</td>\n",
       "      <td>absorption</td>\n",
       "      <td>0.001131</td>\n",
       "      <td>1.475416e-05</td>\n",
       "    </tr>\n",
       "    <tr>\n",
       "      <th>18</th>\n",
       "      <td>52</td>\n",
       "      <td>6.250000e-07</td>\n",
       "      <td>2.000000e+01</td>\n",
       "      <td>U235</td>\n",
       "      <td>scatter</td>\n",
       "      <td>0.019520</td>\n",
       "      <td>5.572523e-05</td>\n",
       "    </tr>\n",
       "    <tr>\n",
       "      <th>19</th>\n",
       "      <td>52</td>\n",
       "      <td>6.250000e-07</td>\n",
       "      <td>2.000000e+01</td>\n",
       "      <td>U235</td>\n",
       "      <td>absorption</td>\n",
       "      <td>0.435056</td>\n",
       "      <td>1.579224e-03</td>\n",
       "    </tr>\n",
       "    <tr>\n",
       "      <th>20</th>\n",
       "      <td>52</td>\n",
       "      <td>6.250000e-07</td>\n",
       "      <td>2.000000e+01</td>\n",
       "      <td>U238</td>\n",
       "      <td>scatter</td>\n",
       "      <td>0.771903</td>\n",
       "      <td>2.148910e-03</td>\n",
       "    </tr>\n",
       "    <tr>\n",
       "      <th>21</th>\n",
       "      <td>52</td>\n",
       "      <td>6.250000e-07</td>\n",
       "      <td>2.000000e+01</td>\n",
       "      <td>U238</td>\n",
       "      <td>absorption</td>\n",
       "      <td>0.166052</td>\n",
       "      <td>6.761443e-04</td>\n",
       "    </tr>\n",
       "    <tr>\n",
       "      <th>22</th>\n",
       "      <td>52</td>\n",
       "      <td>6.250000e-07</td>\n",
       "      <td>2.000000e+01</td>\n",
       "      <td>U236</td>\n",
       "      <td>scatter</td>\n",
       "      <td>0.000071</td>\n",
       "      <td>5.337780e-07</td>\n",
       "    </tr>\n",
       "    <tr>\n",
       "      <th>23</th>\n",
       "      <td>52</td>\n",
       "      <td>6.250000e-07</td>\n",
       "      <td>2.000000e+01</td>\n",
       "      <td>U236</td>\n",
       "      <td>absorption</td>\n",
       "      <td>0.000175</td>\n",
       "      <td>5.425349e-06</td>\n",
       "    </tr>\n",
       "  </tbody>\n",
       "</table>\n",
       "</div>"
      ],
      "text/plain": [
       "    cell  energy low [eV]  energy high [eV] nuclide       score     mean  \\\n",
       "0     52         0.00e+00          6.25e-07     O16     scatter 0.00e+00   \n",
       "1     52         0.00e+00          6.25e-07     O16  absorption 0.00e+00   \n",
       "2     52         0.00e+00          6.25e-07     O17     scatter 0.00e+00   \n",
       "3     52         0.00e+00          6.25e-07     O17  absorption 0.00e+00   \n",
       "4     52         0.00e+00          6.25e-07    U234     scatter 0.00e+00   \n",
       "5     52         0.00e+00          6.25e-07    U234  absorption 0.00e+00   \n",
       "6     52         0.00e+00          6.25e-07    U235     scatter 0.00e+00   \n",
       "7     52         0.00e+00          6.25e-07    U235  absorption 0.00e+00   \n",
       "8     52         0.00e+00          6.25e-07    U238     scatter 0.00e+00   \n",
       "9     52         0.00e+00          6.25e-07    U238  absorption 0.00e+00   \n",
       "10    52         0.00e+00          6.25e-07    U236     scatter 0.00e+00   \n",
       "11    52         0.00e+00          6.25e-07    U236  absorption 0.00e+00   \n",
       "12    52         6.25e-07          2.00e+01     O16     scatter 6.71e-01   \n",
       "13    52         6.25e-07          2.00e+01     O16  absorption 1.57e-05   \n",
       "14    52         6.25e-07          2.00e+01     O17     scatter 2.47e-04   \n",
       "15    52         6.25e-07          2.00e+01     O17  absorption 7.48e-06   \n",
       "16    52         6.25e-07          2.00e+01    U234     scatter 2.58e-04   \n",
       "17    52         6.25e-07          2.00e+01    U234  absorption 1.13e-03   \n",
       "18    52         6.25e-07          2.00e+01    U235     scatter 1.95e-02   \n",
       "19    52         6.25e-07          2.00e+01    U235  absorption 4.35e-01   \n",
       "20    52         6.25e-07          2.00e+01    U238     scatter 7.72e-01   \n",
       "21    52         6.25e-07          2.00e+01    U238  absorption 1.66e-01   \n",
       "22    52         6.25e-07          2.00e+01    U236     scatter 7.06e-05   \n",
       "23    52         6.25e-07          2.00e+01    U236  absorption 1.75e-04   \n",
       "\n",
       "    std. dev.  \n",
       "0    0.00e+00  \n",
       "1    0.00e+00  \n",
       "2    0.00e+00  \n",
       "3    0.00e+00  \n",
       "4    0.00e+00  \n",
       "5    0.00e+00  \n",
       "6    0.00e+00  \n",
       "7    0.00e+00  \n",
       "8    0.00e+00  \n",
       "9    0.00e+00  \n",
       "10   0.00e+00  \n",
       "11   0.00e+00  \n",
       "12   1.86e-03  \n",
       "13   5.62e-08  \n",
       "14   6.85e-07  \n",
       "15   2.68e-08  \n",
       "16   1.97e-06  \n",
       "17   1.48e-05  \n",
       "18   5.57e-05  \n",
       "19   1.58e-03  \n",
       "20   2.15e-03  \n",
       "21   6.76e-04  \n",
       "22   5.34e-07  \n",
       "23   5.43e-06  "
      ]
     },
     "execution_count": 22,
     "metadata": {},
     "output_type": "execute_result"
    }
   ],
   "source": [
    "# Get a Pandas DataFrame of the tally data\n",
    "tally = sp.get_tally(name='a really cool tally')\n",
    "tally.get_pandas_dataframe()"
   ]
  },
  {
   "cell_type": "markdown",
   "metadata": {},
   "source": [
    "And I'll leave it up to you at this point :-)"
   ]
  }
 ],
 "metadata": {
  "kernelspec": {
   "display_name": "Python 3",
   "language": "python",
   "name": "python3"
  },
  "language_info": {
   "codemirror_mode": {
    "name": "ipython",
    "version": 3
   },
   "file_extension": ".py",
   "mimetype": "text/x-python",
   "name": "python",
   "nbconvert_exporter": "python",
   "pygments_lexer": "ipython3",
   "version": "3.5.5"
  }
 },
 "nbformat": 4,
 "nbformat_minor": 1
}
